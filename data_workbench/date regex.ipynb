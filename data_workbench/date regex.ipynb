{
 "cells": [
  {
   "cell_type": "code",
   "execution_count": null,
   "metadata": {},
   "outputs": [],
   "source": [
    "# regex for date parsing\n",
    "\n",
    "# ^(\\d{4})(-|\\/)(\\d{2})(-|\\/)(\\d{2})T(\\d{2}):(\\d{2}):(\\d{2})\\.(\\d{3})\n",
    "# ^([0-2][0-9]|(3)[0-1])(\\.|-|\\/)(((0)[0-9])|((1)[0-2]))(\\.|-|\\/)\\d{4}$ - simple data DD/MM/YYYY"
   ]
  },
  {
   "cell_type": "code",
   "execution_count": 28,
   "metadata": {},
   "outputs": [],
   "source": [
    "# (\\b\\d{1,2}\\D{0,3})?\\b(?:(Jan|jan)(?:uary)?|(Feb|feb)(?:ruary)?|(Mar|mar)(?:ch)?|(Apr|apr)(?:il)?|(May|may)|Jun(?:e)?|(Jul|jun)(?:y)?|(Aug|aug)(?:ust)?|(Sep|sep)(?:tember)?|(Oct|oct)(?:ober)?|(Nov|nov|Dec|dec)(?:ember)?)\\D?(\\d{1,2}\\D?)?\\D?((19[7-9]\\d|20\\d{2})|\\d{2})\n",
    "###^ regex for date in format for 1-31<space>jan-dec<space>00-99/0000-9999\n",
    "\n",
    "# (?:(?:31(\\/|-|\\.)(?:0?[13578]|1[02]))\\1|(?:(?:29|30)(\\/|-|\\.)(?:0?[13-9]|1[0-2])\\2))(?:(?:1[6-9]|[2-9]\\d)?\\d{2})$|^(?:29(\\/|-|\\.)0?2\\3(?:(?:(?:1[6-9]|[2-9]\\d)?(?:0[48]|[2468][048]|[13579][26])|(?:(?:16|[2468][048]|[3579][26])00))))$|^(?:0?[1-9]|1\\d|2[0-8])(\\/|-|\\.)(?:(?:0?[1-9])|(?:1[0-2]))\\4(?:(?:1[6-9]|[2-9]\\d)?\\d{2})$\n",
    "### ^ regex for date DD/MM/YYYY, DD-MM-YYYY , DD.MM.YYYY\n",
    "\n",
    "\n"
   ]
  }
 ],
 "metadata": {
  "language_info": {
   "name": "python"
  },
  "orig_nbformat": 4
 },
 "nbformat": 4,
 "nbformat_minor": 2
}
